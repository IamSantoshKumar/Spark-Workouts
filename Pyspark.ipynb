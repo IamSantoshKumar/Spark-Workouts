{
  "nbformat": 4,
  "nbformat_minor": 0,
  "metadata": {
    "colab": {
      "name": "Pyspark.ipynb",
      "version": "0.3.2",
      "provenance": [],
      "include_colab_link": true
    },
    "kernelspec": {
      "name": "python3",
      "display_name": "Python 3"
    }
  },
  "cells": [
    {
      "cell_type": "markdown",
      "metadata": {
        "id": "view-in-github",
        "colab_type": "text"
      },
      "source": [
        "<a href=\"https://colab.research.google.com/github/IamSantoshKumar/Spark-Workouts/blob/master/Pyspark.ipynb\" target=\"_parent\"><img src=\"https://colab.research.google.com/assets/colab-badge.svg\" alt=\"Open In Colab\"/></a>"
      ]
    },
    {
      "cell_type": "code",
      "metadata": {
        "id": "xZ8ENxtCeDXz",
        "colab_type": "code",
        "colab": {}
      },
      "source": [
        "#!apt-get install openjdk-8-jdk-headless -qq > /dev/null\n",
        "#!wget -q http://www-eu.apache.org/dist/spark/spark-2.3.2/spark-2.3.2-bin-hadoop2.7.tgz\n",
        "#!tar xf spark-2.3.2-bin-hadoop2.7.tgz\n",
        "!pip install -q findspark"
      ],
      "execution_count": 0,
      "outputs": []
    },
    {
      "cell_type": "code",
      "metadata": {
        "id": "Jw_eyRlgt87f",
        "colab_type": "code",
        "colab": {}
      },
      "source": [
        "import os\n",
        "from google.colab import drive\n",
        "drive.mount('/content/drive',force_remount=True)\n",
        "!ls"
      ],
      "execution_count": 0,
      "outputs": []
    },
    {
      "cell_type": "code",
      "metadata": {
        "id": "WSrb-BEysTn9",
        "colab_type": "code",
        "colab": {
          "base_uri": "https://localhost:8080/",
          "height": 102
        },
        "outputId": "f89a0067-2848-4b65-d7c5-693a1640abb0"
      },
      "source": [
        "!pip install pandas"
      ],
      "execution_count": 62,
      "outputs": [
        {
          "output_type": "stream",
          "text": [
            "Requirement already satisfied: pandas in /usr/local/lib/python3.6/dist-packages (0.24.2)\n",
            "Requirement already satisfied: numpy>=1.12.0 in /usr/local/lib/python3.6/dist-packages (from pandas) (1.16.3)\n",
            "Requirement already satisfied: pytz>=2011k in /usr/local/lib/python3.6/dist-packages (from pandas) (2018.9)\n",
            "Requirement already satisfied: python-dateutil>=2.5.0 in /usr/local/lib/python3.6/dist-packages (from pandas) (2.5.3)\n",
            "Requirement already satisfied: six>=1.5 in /usr/local/lib/python3.6/dist-packages (from python-dateutil>=2.5.0->pandas) (1.12.0)\n"
          ],
          "name": "stdout"
        }
      ]
    },
    {
      "cell_type": "code",
      "metadata": {
        "id": "BA5J86olc8U-",
        "colab_type": "code",
        "colab": {}
      },
      "source": [
        "import os\n",
        "os.chdir(\"/content/drive/My Drive/Data\")\n",
        "os.environ[\"JAVA_HOME\"] = \"/usr/lib/jvm/java-8-openjdk-amd64\"\n",
        "os.environ[\"SPARK_HOME\"] = \"/content/drive/My Drive/Data/spark-2.3.2-bin-hadoop2.7\""
      ],
      "execution_count": 0,
      "outputs": []
    },
    {
      "cell_type": "code",
      "metadata": {
        "id": "GCEGvCIAdGH2",
        "colab_type": "code",
        "colab": {}
      },
      "source": [
        "import findspark\n",
        "findspark.init()\n",
        "from pyspark.sql import SparkSession\n",
        "spark = SparkSession.builder.master(\"local[4]\").getOrCreate()"
      ],
      "execution_count": 0,
      "outputs": []
    },
    {
      "cell_type": "code",
      "metadata": {
        "id": "yI4wp1cliXG1",
        "colab_type": "code",
        "colab": {}
      },
      "source": [
        "!chmod -R 777 '/content/drive/'"
      ],
      "execution_count": 0,
      "outputs": []
    },
    {
      "cell_type": "code",
      "metadata": {
        "id": "oWtyS-yydLw1",
        "colab_type": "code",
        "outputId": "7e053e0e-56a2-4177-b8fa-9a1c16bc8ac9",
        "colab": {
          "base_uri": "https://localhost:8080/",
          "height": 479
        }
      },
      "source": [
        "df = spark.read.csv('/content/drive/My Drive/testy.txt',inferSchema=True,header=True)\n",
        "df.show()"
      ],
      "execution_count": 7,
      "outputs": [
        {
          "output_type": "stream",
          "text": [
            "+---+----------------+-----------------+-------------+--------------------+--------------------+--------------------+----+-------+---------+--------+------------+\n",
            "|_c0|Retailer country|Order method type|Retailer type|        Product line|        Product type|             Product|Year|Quarter|  Revenue|Quantity|Gross margin|\n",
            "+---+----------------+-----------------+-------------+--------------------+--------------------+--------------------+----+-------+---------+--------+------------+\n",
            "|  0|   United States|              Fax|Outdoors Shop|   Camping Equipment|        Cooking Gear|TrailChef Deluxe ...|2012|Q1 2012| 59628.66|     489|  0.34754797|\n",
            "|  1|   United States|              Fax|Outdoors Shop|   Camping Equipment|        Cooking Gear|TrailChef Double ...|2012|Q1 2012| 35950.32|     252|   0.4742745|\n",
            "|  2|   United States|              Fax|Outdoors Shop|   Camping Equipment|               Tents|           Star Dome|2012|Q1 2012| 89940.48|     147|  0.35277197|\n",
            "|  3|   United States|              Fax|Outdoors Shop|   Camping Equipment|               Tents|        Star Gazer 2|2012|Q1 2012|165883.41|     303|  0.28293788|\n",
            "|  4|   United States|              Fax|Outdoors Shop|   Camping Equipment|       Sleeping Bags|     Hibernator Lite|2012|Q1 2012| 119822.2|    1415|  0.29145017|\n",
            "|  5|   United States|              Fax|Outdoors Shop|   Camping Equipment|       Sleeping Bags|  Hibernator Extreme|2012|Q1 2012| 87728.96|     352|  0.39814629|\n",
            "|  6|   United States|              Fax|Outdoors Shop|   Camping Equipment|       Sleeping Bags| Hibernator Camp Cot|2012|Q1 2012| 41837.46|     426|  0.33560737|\n",
            "|  7|   United States|              Fax|Outdoors Shop|   Camping Equipment|            Lanterns|        Firefly Lite|2012|Q1 2012|  8268.41|     577|  0.52896022|\n",
            "|  8|   United States|              Fax|Outdoors Shop|   Camping Equipment|            Lanterns|     Firefly Extreme|2012|Q1 2012|   9393.3|     189|  0.43420523|\n",
            "|  9|   United States|              Fax|Outdoors Shop|   Camping Equipment|            Lanterns|     EverGlow Single|2012|Q1 2012|  19396.5|     579|  0.46149254|\n",
            "| 10|   United States|              Fax|Outdoors Shop|   Camping Equipment|            Lanterns|     EverGlow Butane|2012|Q1 2012|  6940.03|     109|  0.36186587|\n",
            "| 11|   United States|              Fax|Outdoors Shop|Mountaineering Eq...|                Rope|       Husky Rope 50|2012|Q1 2012|  20003.2|     133|  0.32905585|\n",
            "| 12|   United States|              Fax|Outdoors Shop|Mountaineering Eq...|                Rope|       Husky Rope 60|2012|Q1 2012|  14109.4|      79|  0.29165733|\n",
            "| 13|   United States|              Fax|Outdoors Shop|Mountaineering Eq...|                Rope|      Husky Rope 100|2012|Q1 2012| 73970.22|     227|  0.30126435|\n",
            "| 14|   United States|              Fax|Outdoors Shop|Mountaineering Eq...|                Rope|      Husky Rope 200|2012|Q1 2012| 77288.64|     143|  0.31477575|\n",
            "| 15|   United States|              Fax|Outdoors Shop|Mountaineering Eq...|              Safety|Granite Climbing ...|2012|Q1 2012| 62464.88|     898|  0.24468085|\n",
            "| 16|   United States|              Fax|Outdoors Shop|Mountaineering Eq...|              Safety|       Husky Harness|2012|Q1 2012|  34154.9|     559|  0.28363339|\n",
            "| 17|   United States|              Fax|Outdoors Shop|Mountaineering Eq...|              Safety|Husky Harness Ext...|2012|Q1 2012|  36396.8|     352|  0.47843327|\n",
            "| 18|   United States|              Fax|Outdoors Shop|Mountaineering Eq...|              Safety|Granite Signal Mi...|2012|Q1 2012|  4074.84|     126|  0.51422387|\n",
            "| 19|   United States|              Fax|Outdoors Shop|Mountaineering Eq...|Climbing Accessories|   Granite Carabiner|2012|Q1 2012| 15122.72|    4022|   0.4787234|\n",
            "+---+----------------+-----------------+-------------+--------------------+--------------------+--------------------+----+-------+---------+--------+------------+\n",
            "only showing top 20 rows\n",
            "\n"
          ],
          "name": "stdout"
        }
      ]
    },
    {
      "cell_type": "code",
      "metadata": {
        "id": "YGR9TKk1m55I",
        "colab_type": "code",
        "colab": {}
      },
      "source": [
        "from pyspark.sql.functions import *\n",
        "from pyspark.sql.types import *"
      ],
      "execution_count": 0,
      "outputs": []
    },
    {
      "cell_type": "code",
      "metadata": {
        "id": "TVmDZi-knvtT",
        "colab_type": "code",
        "outputId": "da6059f3-0ef0-4b5e-a579-daaf4172488a",
        "colab": {
          "base_uri": "https://localhost:8080/",
          "height": 170
        }
      },
      "source": [
        "df2=df.filter(col('Product type')=='Safety')\n",
        "df2.show()"
      ],
      "execution_count": 9,
      "outputs": [
        {
          "output_type": "stream",
          "text": [
            "+---+----------------+-----------------+-------------+--------------------+------------+--------------------+----+-------+--------+--------+------------+\n",
            "|_c0|Retailer country|Order method type|Retailer type|        Product line|Product type|             Product|Year|Quarter| Revenue|Quantity|Gross margin|\n",
            "+---+----------------+-----------------+-------------+--------------------+------------+--------------------+----+-------+--------+--------+------------+\n",
            "| 15|   United States|              Fax|Outdoors Shop|Mountaineering Eq...|      Safety|Granite Climbing ...|2012|Q1 2012|62464.88|     898|  0.24468085|\n",
            "| 16|   United States|              Fax|Outdoors Shop|Mountaineering Eq...|      Safety|       Husky Harness|2012|Q1 2012| 34154.9|     559|  0.28363339|\n",
            "| 17|   United States|              Fax|Outdoors Shop|Mountaineering Eq...|      Safety|Husky Harness Ext...|2012|Q1 2012| 36396.8|     352|  0.47843327|\n",
            "| 18|   United States|              Fax|Outdoors Shop|Mountaineering Eq...|      Safety|Granite Signal Mi...|2012|Q1 2012| 4074.84|     126|  0.51422387|\n",
            "+---+----------------+-----------------+-------------+--------------------+------------+--------------------+----+-------+--------+--------+------------+\n",
            "\n"
          ],
          "name": "stdout"
        }
      ]
    },
    {
      "cell_type": "code",
      "metadata": {
        "id": "tcuTnD-4qpsT",
        "colab_type": "code",
        "outputId": "a4f50257-889d-4655-f808-6418b9e47746",
        "colab": {
          "base_uri": "https://localhost:8080/",
          "height": 34
        }
      },
      "source": [
        "df2.distinct().count()"
      ],
      "execution_count": 10,
      "outputs": [
        {
          "output_type": "execute_result",
          "data": {
            "text/plain": [
              "4"
            ]
          },
          "metadata": {
            "tags": []
          },
          "execution_count": 10
        }
      ]
    },
    {
      "cell_type": "code",
      "metadata": {
        "id": "U_fiwrkvrefn",
        "colab_type": "code",
        "outputId": "78bb5020-e50a-4a92-fbeb-d155e9b8f5de",
        "colab": {
          "base_uri": "https://localhost:8080/",
          "height": 459
        }
      },
      "source": [
        "df3=df.groupBy(df.Product).agg({\"Revenue\": \"avg\", \"Quantity\": \"max\"}).toDF('product','max_quantity','revenue')\n",
        "df3.show()\n"
      ],
      "execution_count": 15,
      "outputs": [
        {
          "output_type": "stream",
          "text": [
            "+--------------------+------------+---------+\n",
            "|             product|max_quantity|  revenue|\n",
            "+--------------------+------------+---------+\n",
            "|TrailChef Deluxe ...|         632| 68347.37|\n",
            "|Firefly Rechargea...|        1520|  11673.6|\n",
            "|             Fairway|         409|  8241.35|\n",
            "|      Hibernator Pad|         411| 16205.73|\n",
            "|Husky Harness Ext...|         352|  36396.8|\n",
            "|Granite Signal Mi...|         126|  4074.84|\n",
            "|Hailstorm Titaniu...|          75|  65461.5|\n",
            "|Hailstorm Steel W...|          44| 30095.04|\n",
            "|  TrailChef Cook Set|        1331| 70400.88|\n",
            "|             Cat Eye|         101|  4428.85|\n",
            "|     EverGlow Butane|         109|  6940.03|\n",
            "|             Maximus|         113|   9325.0|\n",
            "|         Granite Ice|         333|  25041.6|\n",
            "|              Trendi|         181|   9104.3|\n",
            "|         Granite Axe|         856|  32870.4|\n",
            "|     Firefly Charger|         710|  36494.0|\n",
            "|             Inferno|         199|  12935.0|\n",
            "|       TrailChef Cup|        6134| 21434.73|\n",
            "|Hailstorm Titaniu...|          89|106338.98|\n",
            "|           Firefly 4|         338|   9751.3|\n",
            "+--------------------+------------+---------+\n",
            "only showing top 20 rows\n",
            "\n"
          ],
          "name": "stdout"
        }
      ]
    },
    {
      "cell_type": "code",
      "metadata": {
        "id": "LpKL-i0Tuozz",
        "colab_type": "code",
        "colab": {}
      },
      "source": [
        "maturity_udf = udf(lambda revenue: \"Above Average\" if revenue >=50000 else \"Below Average\", StringType())\n"
      ],
      "execution_count": 0,
      "outputs": []
    },
    {
      "cell_type": "code",
      "metadata": {
        "id": "_h9cBSqdlql5",
        "colab_type": "code",
        "colab": {
          "base_uri": "https://localhost:8080/",
          "height": 459
        },
        "outputId": "bda301f8-193a-42be-cdea-826f93c9e8de"
      },
      "source": [
        "df3=df3.withColumn(\"Class\", maturity_udf(df3.revenue))\n",
        "df3=df3.drop('Rank')\n",
        "df3.show()"
      ],
      "execution_count": 23,
      "outputs": [
        {
          "output_type": "stream",
          "text": [
            "+--------------------+------------+---------+-------------+\n",
            "|             product|max_quantity|  revenue|        Class|\n",
            "+--------------------+------------+---------+-------------+\n",
            "|TrailChef Deluxe ...|         632| 68347.37| Top Customer|\n",
            "|Firefly Rechargea...|        1520|  11673.6|Below the avg|\n",
            "|             Fairway|         409|  8241.35|Below the avg|\n",
            "|      Hibernator Pad|         411| 16205.73|Below the avg|\n",
            "|Husky Harness Ext...|         352|  36396.8|Below the avg|\n",
            "|Granite Signal Mi...|         126|  4074.84|Below the avg|\n",
            "|Hailstorm Titaniu...|          75|  65461.5| Top Customer|\n",
            "|Hailstorm Steel W...|          44| 30095.04|Below the avg|\n",
            "|  TrailChef Cook Set|        1331| 70400.88| Top Customer|\n",
            "|             Cat Eye|         101|  4428.85|Below the avg|\n",
            "|     EverGlow Butane|         109|  6940.03|Below the avg|\n",
            "|             Maximus|         113|   9325.0|Below the avg|\n",
            "|         Granite Ice|         333|  25041.6|Below the avg|\n",
            "|              Trendi|         181|   9104.3|Below the avg|\n",
            "|         Granite Axe|         856|  32870.4|Below the avg|\n",
            "|     Firefly Charger|         710|  36494.0|Below the avg|\n",
            "|             Inferno|         199|  12935.0|Below the avg|\n",
            "|       TrailChef Cup|        6134| 21434.73|Below the avg|\n",
            "|Hailstorm Titaniu...|          89|106338.98| Top Customer|\n",
            "|           Firefly 4|         338|   9751.3|Below the avg|\n",
            "+--------------------+------------+---------+-------------+\n",
            "only showing top 20 rows\n",
            "\n"
          ],
          "name": "stdout"
        }
      ]
    },
    {
      "cell_type": "code",
      "metadata": {
        "id": "tSvw9W_6m3DV",
        "colab_type": "code",
        "colab": {}
      },
      "source": [
        "df3.createGlobalTempView(\"Revenue\")"
      ],
      "execution_count": 0,
      "outputs": []
    },
    {
      "cell_type": "code",
      "metadata": {
        "id": "DtAlVUn4nOYZ",
        "colab_type": "code",
        "colab": {
          "base_uri": "https://localhost:8080/",
          "height": 459
        },
        "outputId": "a6498db1-2bc0-475b-b7b4-5f0e720aafe8"
      },
      "source": [
        "df4 = spark.sql(\"select * from global_temp.Revenue as rev where rev.Class='Top Customer'\")\n",
        "df4.show()"
      ],
      "execution_count": 28,
      "outputs": [
        {
          "output_type": "stream",
          "text": [
            "+--------------------+------------+----------+------------+\n",
            "|             product|max_quantity|   revenue|       Class|\n",
            "+--------------------+------------+----------+------------+\n",
            "|TrailChef Deluxe ...|         632|  68347.37|Top Customer|\n",
            "|Hailstorm Titaniu...|          75|   65461.5|Top Customer|\n",
            "|  TrailChef Cook Set|        1331|  70400.88|Top Customer|\n",
            "|Hailstorm Titaniu...|          89| 106338.98|Top Customer|\n",
            "|           Star Dome|         398|  166726.4|Top Customer|\n",
            "|TrailChef Kitchen...|        3592|  82254.08|Top Customer|\n",
            "|Granite Climbing ...|         898|  62464.88|Top Customer|\n",
            "|  Hibernator Extreme|         352|  87728.96|Top Customer|\n",
            "|     Hibernator Lite|        1415|  85357.44|Top Customer|\n",
            "|    TrailChef Kettle|       17492| 138711.56|Top Customer|\n",
            "|Canyon Mule Climb...|         951|  69788.49|Top Customer|\n",
            "|           Firefly 2|        2899|  76660.11|Top Customer|\n",
            "|        Star Gazer 6|         172|  134690.2|Top Customer|\n",
            "|      Husky Rope 100|         227|  73970.22|Top Customer|\n",
            "|        Star Gazer 2|         303|165609.675|Top Customer|\n",
            "|Canyon Mule Weeke...|        1552| 417084.48|Top Customer|\n",
            "|Canyon Mule Journ...|         676| 235660.36|Top Customer|\n",
            "|          Hibernator|        1160|  160103.2|Top Customer|\n",
            "|      Husky Rope 200|         143|  77288.64|Top Customer|\n",
            "|Lady Hailstorm St...|          62|  53082.54|Top Customer|\n",
            "+--------------------+------------+----------+------------+\n",
            "only showing top 20 rows\n",
            "\n"
          ],
          "name": "stdout"
        }
      ]
    },
    {
      "cell_type": "code",
      "metadata": {
        "id": "pxaRRuqUnumI",
        "colab_type": "code",
        "colab": {}
      },
      "source": [
        "spark.catalog.dropTempView(\"Revenue\")"
      ],
      "execution_count": 0,
      "outputs": []
    },
    {
      "cell_type": "code",
      "metadata": {
        "id": "rdlMUw7foAQT",
        "colab_type": "code",
        "colab": {
          "base_uri": "https://localhost:8080/",
          "height": 187
        },
        "outputId": "b1c922d3-74cc-4dc3-aa94-051ad6a3839f"
      },
      "source": [
        "df4.describe(['revenue']).show()"
      ],
      "execution_count": 32,
      "outputs": [
        {
          "output_type": "stream",
          "text": [
            "+-------+------------------+\n",
            "|summary|           revenue|\n",
            "+-------+------------------+\n",
            "|  count|                24|\n",
            "|   mean|111182.74500000004|\n",
            "| stddev| 79789.07616733816|\n",
            "|    min|          53082.54|\n",
            "|    max|         417084.48|\n",
            "+-------+------------------+\n",
            "\n"
          ],
          "name": "stdout"
        }
      ]
    },
    {
      "cell_type": "code",
      "metadata": {
        "id": "Ojg79_dXogSh",
        "colab_type": "code",
        "colab": {}
      },
      "source": [
        "df5=df.dropDuplicates(['Product type', 'Product line'])"
      ],
      "execution_count": 0,
      "outputs": []
    },
    {
      "cell_type": "code",
      "metadata": {
        "id": "B5lFL-pBpQ5g",
        "colab_type": "code",
        "colab": {
          "base_uri": "https://localhost:8080/",
          "height": 34
        },
        "outputId": "1e8e81c3-feb8-439e-fa49-a0769e6aa3eb"
      },
      "source": [
        "df5.count()"
      ],
      "execution_count": 44,
      "outputs": [
        {
          "output_type": "execute_result",
          "data": {
            "text/plain": [
              "21"
            ]
          },
          "metadata": {
            "tags": []
          },
          "execution_count": 44
        }
      ]
    },
    {
      "cell_type": "code",
      "metadata": {
        "id": "mP43Dcz9qD6W",
        "colab_type": "code",
        "colab": {
          "base_uri": "https://localhost:8080/",
          "height": 221
        },
        "outputId": "1857ed1b-857b-4db3-dae3-de90cf2f0bc5"
      },
      "source": [
        "df.dtypes"
      ],
      "execution_count": 45,
      "outputs": [
        {
          "output_type": "execute_result",
          "data": {
            "text/plain": [
              "[('_c0', 'int'),\n",
              " ('Retailer country', 'string'),\n",
              " ('Order method type', 'string'),\n",
              " ('Retailer type', 'string'),\n",
              " ('Product line', 'string'),\n",
              " ('Product type', 'string'),\n",
              " ('Product', 'string'),\n",
              " ('Year', 'int'),\n",
              " ('Quarter', 'string'),\n",
              " ('Revenue', 'double'),\n",
              " ('Quantity', 'int'),\n",
              " ('Gross margin', 'double')]"
            ]
          },
          "metadata": {
            "tags": []
          },
          "execution_count": 45
        }
      ]
    },
    {
      "cell_type": "code",
      "metadata": {
        "id": "brN9OmR9qLkt",
        "colab_type": "code",
        "colab": {
          "base_uri": "https://localhost:8080/",
          "height": 459
        },
        "outputId": "d36f0ba9-f61b-4a7d-e36a-8a8d357646df"
      },
      "source": [
        "df5.select(\"Product line\",\"Revenue\").show()"
      ],
      "execution_count": 47,
      "outputs": [
        {
          "output_type": "stream",
          "text": [
            "+--------------------+---------+\n",
            "|        Product line|  Revenue|\n",
            "+--------------------+---------+\n",
            "|   Camping Equipment| 89940.48|\n",
            "|      Golf Equipment| 25215.25|\n",
            "|Personal Accessories|   6499.8|\n",
            "|      Golf Equipment|   4693.5|\n",
            "|Mountaineering Eq...|  20003.2|\n",
            "|   Camping Equipment|  8268.41|\n",
            "|Personal Accessories| 38534.28|\n",
            "|Personal Accessories|   7520.0|\n",
            "|  Outdoor Protection|  5718.15|\n",
            "|   Camping Equipment| 69788.49|\n",
            "|Personal Accessories|  7015.34|\n",
            "|Personal Accessories| 30940.25|\n",
            "|      Golf Equipment| 28434.48|\n",
            "|Mountaineering Eq...| 62464.88|\n",
            "|      Golf Equipment|106338.98|\n",
            "|Mountaineering Eq...|  25041.6|\n",
            "|   Camping Equipment| 119822.2|\n",
            "|Mountaineering Eq...| 15122.72|\n",
            "|  Outdoor Protection|   4057.2|\n",
            "|   Camping Equipment| 59628.66|\n",
            "+--------------------+---------+\n",
            "only showing top 20 rows\n",
            "\n"
          ],
          "name": "stdout"
        }
      ]
    },
    {
      "cell_type": "code",
      "metadata": {
        "id": "1xQ8Y2MyqmaA",
        "colab_type": "code",
        "colab": {
          "base_uri": "https://localhost:8080/",
          "height": 119
        },
        "outputId": "b789f177-b8e4-43e9-8b74-cabbf263eb67"
      },
      "source": [
        "df.join(df5, ['Product', 'Product line'],'left').select(df.Product, df['Product line']).limit(1).show()"
      ],
      "execution_count": 61,
      "outputs": [
        {
          "output_type": "stream",
          "text": [
            "+--------------------+-----------------+\n",
            "|             Product|     Product line|\n",
            "+--------------------+-----------------+\n",
            "|TrailChef Deluxe ...|Camping Equipment|\n",
            "+--------------------+-----------------+\n",
            "\n"
          ],
          "name": "stdout"
        }
      ]
    },
    {
      "cell_type": "code",
      "metadata": {
        "id": "WZKyF0DTrFIw",
        "colab_type": "code",
        "colab": {
          "base_uri": "https://localhost:8080/",
          "height": 34
        },
        "outputId": "d2b0ced5-548e-4b34-bc65-6cd9d5c97e3d"
      },
      "source": [
        "df.repartition(10).rdd.getNumPartitions()"
      ],
      "execution_count": 52,
      "outputs": [
        {
          "output_type": "execute_result",
          "data": {
            "text/plain": [
              "10"
            ]
          },
          "metadata": {
            "tags": []
          },
          "execution_count": 52
        }
      ]
    },
    {
      "cell_type": "code",
      "metadata": {
        "id": "sU30tnplrXLC",
        "colab_type": "code",
        "colab": {}
      },
      "source": [
        "df6=df.toPandas()"
      ],
      "execution_count": 0,
      "outputs": []
    },
    {
      "cell_type": "code",
      "metadata": {
        "id": "pqESNe_Xsdnm",
        "colab_type": "code",
        "colab": {
          "base_uri": "https://localhost:8080/",
          "height": 162
        },
        "outputId": "f79cd12e-50a3-4a87-bdf6-934ce93a2eeb"
      },
      "source": [
        "df6.iloc[0:2]"
      ],
      "execution_count": 64,
      "outputs": [
        {
          "output_type": "execute_result",
          "data": {
            "text/html": [
              "<div>\n",
              "<style scoped>\n",
              "    .dataframe tbody tr th:only-of-type {\n",
              "        vertical-align: middle;\n",
              "    }\n",
              "\n",
              "    .dataframe tbody tr th {\n",
              "        vertical-align: top;\n",
              "    }\n",
              "\n",
              "    .dataframe thead th {\n",
              "        text-align: right;\n",
              "    }\n",
              "</style>\n",
              "<table border=\"1\" class=\"dataframe\">\n",
              "  <thead>\n",
              "    <tr style=\"text-align: right;\">\n",
              "      <th></th>\n",
              "      <th>_c0</th>\n",
              "      <th>Retailer country</th>\n",
              "      <th>Order method type</th>\n",
              "      <th>Retailer type</th>\n",
              "      <th>Product line</th>\n",
              "      <th>Product type</th>\n",
              "      <th>Product</th>\n",
              "      <th>Year</th>\n",
              "      <th>Quarter</th>\n",
              "      <th>Revenue</th>\n",
              "      <th>Quantity</th>\n",
              "      <th>Gross margin</th>\n",
              "    </tr>\n",
              "  </thead>\n",
              "  <tbody>\n",
              "    <tr>\n",
              "      <th>0</th>\n",
              "      <td>0</td>\n",
              "      <td>United States</td>\n",
              "      <td>Fax</td>\n",
              "      <td>Outdoors Shop</td>\n",
              "      <td>Camping Equipment</td>\n",
              "      <td>Cooking Gear</td>\n",
              "      <td>TrailChef Deluxe Cook Set</td>\n",
              "      <td>2012</td>\n",
              "      <td>Q1 2012</td>\n",
              "      <td>59628.66</td>\n",
              "      <td>489</td>\n",
              "      <td>0.347548</td>\n",
              "    </tr>\n",
              "    <tr>\n",
              "      <th>1</th>\n",
              "      <td>1</td>\n",
              "      <td>United States</td>\n",
              "      <td>Fax</td>\n",
              "      <td>Outdoors Shop</td>\n",
              "      <td>Camping Equipment</td>\n",
              "      <td>Cooking Gear</td>\n",
              "      <td>TrailChef Double Flame</td>\n",
              "      <td>2012</td>\n",
              "      <td>Q1 2012</td>\n",
              "      <td>35950.32</td>\n",
              "      <td>252</td>\n",
              "      <td>0.474274</td>\n",
              "    </tr>\n",
              "  </tbody>\n",
              "</table>\n",
              "</div>"
            ],
            "text/plain": [
              "   _c0 Retailer country Order method type  Retailer type       Product line  \\\n",
              "0    0    United States               Fax  Outdoors Shop  Camping Equipment   \n",
              "1    1    United States               Fax  Outdoors Shop  Camping Equipment   \n",
              "\n",
              "   Product type                    Product  Year  Quarter   Revenue  Quantity  \\\n",
              "0  Cooking Gear  TrailChef Deluxe Cook Set  2012  Q1 2012  59628.66       489   \n",
              "1  Cooking Gear     TrailChef Double Flame  2012  Q1 2012  35950.32       252   \n",
              "\n",
              "   Gross margin  \n",
              "0      0.347548  \n",
              "1      0.474274  "
            ]
          },
          "metadata": {
            "tags": []
          },
          "execution_count": 64
        }
      ]
    },
    {
      "cell_type": "code",
      "metadata": {
        "id": "eBa1QZo2rdRW",
        "colab_type": "code",
        "colab": {
          "base_uri": "https://localhost:8080/",
          "height": 479
        },
        "outputId": "a100667c-bfd8-43b3-dd76-8dfa615b87c1"
      },
      "source": [
        "df5.withColumnRenamed('Revenue', 'TotalRevenue').show()"
      ],
      "execution_count": 59,
      "outputs": [
        {
          "output_type": "stream",
          "text": [
            "+---+----------------+-----------------+----------------+--------------------+--------------------+--------------------+----+-------+------------+--------+------------+\n",
            "|_c0|Retailer country|Order method type|   Retailer type|        Product line|        Product type|             Product|Year|Quarter|TotalRevenue|Quantity|Gross margin|\n",
            "+---+----------------+-----------------+----------------+--------------------+--------------------+--------------------+----+-------+------------+--------+------------+\n",
            "|  2|   United States|              Fax|   Outdoors Shop|   Camping Equipment|               Tents|           Star Dome|2012|Q1 2012|    89940.48|     147|  0.35277197|\n",
            "| 66|   United States|        Telephone|       Golf Shop|      Golf Equipment|             Putters|   Course Pro Putter|2012|Q1 2012|    25215.25|     349|  0.51695502|\n",
            "| 32|   United States|              Fax|   Outdoors Shop|Personal Accessories|             Watches|Mountain Man Extreme|2012|Q1 2012|      6499.8|      23|   0.5888535|\n",
            "| 69|   United States|        Telephone|       Golf Shop|      Golf Equipment|    Golf Accessories|Course Pro Golf a...|2012|Q1 2012|      4693.5|     471|  0.71901566|\n",
            "| 11|   United States|              Fax|   Outdoors Shop|Mountaineering Eq...|                Rope|       Husky Rope 50|2012|Q1 2012|     20003.2|     133|  0.32905585|\n",
            "|  7|   United States|              Fax|   Outdoors Shop|   Camping Equipment|            Lanterns|        Firefly Lite|2012|Q1 2012|     8268.41|     577|  0.52896022|\n",
            "| 37|   United States|              Fax|   Outdoors Shop|Personal Accessories|          Navigation| Glacier GPS Extreme|2012|Q1 2012|    38534.28|     114|   0.4779303|\n",
            "| 56|   United States|        Telephone|       Golf Shop|Personal Accessories|          Binoculars|       Ranger Vision|2012|Q1 2012|      7520.0|      47|   0.5350625|\n",
            "| 39|   United States|              Fax|   Outdoors Shop|  Outdoor Protection|           Sunscreen|   Sun Shelter Stick|2012|Q1 2012|     5718.15|    1179|  0.59587629|\n",
            "| 91|   United States|        Telephone|Department Store|   Camping Equipment|               Packs|Canyon Mule Climb...|2012|Q1 2012|    69788.49|     951|  0.28458833|\n",
            "| 33|   United States|              Fax|   Outdoors Shop|Personal Accessories|             Eyewear|           Polar Sun|2012|Q1 2012|     7015.34|     116|  0.56760471|\n",
            "| 35|   United States|              Fax|   Outdoors Shop|Personal Accessories|              Knives|        Edge Extreme|2012|Q1 2012|    30940.25|     275|  0.28895209|\n",
            "| 58|   United States|        Telephone|       Golf Shop|      Golf Equipment|               Irons|Hailstorm Steel I...|2012|Q1 2012|    28434.48|      72|  0.44039771|\n",
            "| 15|   United States|              Fax|   Outdoors Shop|Mountaineering Eq...|              Safety|Granite Climbing ...|2012|Q1 2012|    62464.88|     898|  0.24468085|\n",
            "| 62|   United States|        Telephone|       Golf Shop|      Golf Equipment|               Woods|Hailstorm Titaniu...|2012|Q1 2012|   106338.98|      89|  0.42250716|\n",
            "| 26|   United States|              Fax|   Outdoors Shop|Mountaineering Eq...|               Tools|         Granite Ice|2012|Q1 2012|     25041.6|     333|  0.48178191|\n",
            "|  4|   United States|              Fax|   Outdoors Shop|   Camping Equipment|       Sleeping Bags|     Hibernator Lite|2012|Q1 2012|    119822.2|    1415|  0.29145017|\n",
            "| 19|   United States|              Fax|   Outdoors Shop|Mountaineering Eq...|Climbing Accessories|   Granite Carabiner|2012|Q1 2012|    15122.72|    4022|   0.4787234|\n",
            "| 40|   United States|              Fax|   Outdoors Shop|  Outdoor Protection|           First Aid|  Compact Relief Kit|2012|Q1 2012|      4057.2|     180|  0.60070985|\n",
            "|  0|   United States|              Fax|   Outdoors Shop|   Camping Equipment|        Cooking Gear|TrailChef Deluxe ...|2012|Q1 2012|    59628.66|     489|  0.34754797|\n",
            "+---+----------------+-----------------+----------------+--------------------+--------------------+--------------------+----+-------+------------+--------+------------+\n",
            "only showing top 20 rows\n",
            "\n"
          ],
          "name": "stdout"
        }
      ]
    },
    {
      "cell_type": "code",
      "metadata": {
        "id": "vGjjpVq5szoZ",
        "colab_type": "code",
        "colab": {
          "base_uri": "https://localhost:8080/",
          "height": 119
        },
        "outputId": "95783038-6277-4642-bff0-36d28f0be30f"
      },
      "source": [
        "df5[df5.Product.isin(\"Star Dome\", \"Polar Sunn\")].show()"
      ],
      "execution_count": 66,
      "outputs": [
        {
          "output_type": "stream",
          "text": [
            "+---+----------------+-----------------+-------------+-----------------+------------+---------+----+-------+--------+--------+------------+\n",
            "|_c0|Retailer country|Order method type|Retailer type|     Product line|Product type|  Product|Year|Quarter| Revenue|Quantity|Gross margin|\n",
            "+---+----------------+-----------------+-------------+-----------------+------------+---------+----+-------+--------+--------+------------+\n",
            "|  2|   United States|              Fax|Outdoors Shop|Camping Equipment|       Tents|Star Dome|2012|Q1 2012|89940.48|     147|  0.35277197|\n",
            "+---+----------------+-----------------+-------------+-----------------+------------+---------+----+-------+--------+--------+------------+\n",
            "\n"
          ],
          "name": "stdout"
        }
      ]
    },
    {
      "cell_type": "code",
      "metadata": {
        "id": "NHpGwZvHtcRT",
        "colab_type": "code",
        "colab": {
          "base_uri": "https://localhost:8080/",
          "height": 459
        },
        "outputId": "500d3b42-ea58-4a51-8917-fe1028e567e2"
      },
      "source": [
        "from pyspark.sql import functions as F\n",
        "df5.select(df5.Product, F.when(df.Quantity > 100, 1).otherwise(0)).show()"
      ],
      "execution_count": 67,
      "outputs": [
        {
          "output_type": "stream",
          "text": [
            "+--------------------+--------------------------------------------+\n",
            "|             Product|CASE WHEN (Quantity > 100) THEN 1 ELSE 0 END|\n",
            "+--------------------+--------------------------------------------+\n",
            "|           Star Dome|                                           1|\n",
            "|   Course Pro Putter|                                           1|\n",
            "|Mountain Man Extreme|                                           0|\n",
            "|Course Pro Golf a...|                                           1|\n",
            "|       Husky Rope 50|                                           1|\n",
            "|        Firefly Lite|                                           1|\n",
            "| Glacier GPS Extreme|                                           1|\n",
            "|       Ranger Vision|                                           0|\n",
            "|   Sun Shelter Stick|                                           1|\n",
            "|Canyon Mule Climb...|                                           1|\n",
            "|           Polar Sun|                                           1|\n",
            "|        Edge Extreme|                                           1|\n",
            "|Hailstorm Steel I...|                                           0|\n",
            "|Granite Climbing ...|                                           1|\n",
            "|Hailstorm Titaniu...|                                           0|\n",
            "|         Granite Ice|                                           1|\n",
            "|     Hibernator Lite|                                           1|\n",
            "|   Granite Carabiner|                                           1|\n",
            "|  Compact Relief Kit|                                           1|\n",
            "|TrailChef Deluxe ...|                                           1|\n",
            "+--------------------+--------------------------------------------+\n",
            "only showing top 20 rows\n",
            "\n"
          ],
          "name": "stdout"
        }
      ]
    }
  ]
}