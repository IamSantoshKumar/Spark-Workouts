{
  "nbformat": 4,
  "nbformat_minor": 0,
  "metadata": {
    "colab": {
      "name": "Pyspark.ipynb",
      "version": "0.3.2",
      "provenance": [],
      "include_colab_link": true
    },
    "kernelspec": {
      "name": "python3",
      "display_name": "Python 3"
    }
  },
  "cells": [
    {
      "cell_type": "markdown",
      "metadata": {
        "id": "view-in-github",
        "colab_type": "text"
      },
      "source": [
        "<a href=\"https://colab.research.google.com/github/IamSantoshKumar/Spark-Workouts/blob/master/Pyspark.ipynb\" target=\"_parent\"><img src=\"https://colab.research.google.com/assets/colab-badge.svg\" alt=\"Open In Colab\"/></a>"
      ]
    },
    {
      "cell_type": "code",
      "metadata": {
        "id": "e-12GXA2cnBx",
        "colab_type": "code",
        "outputId": "20fff07e-943a-4f17-daf5-76fe2e24f62f",
        "colab": {
          "base_uri": "https://localhost:8080/",
          "height": 63
        }
      },
      "source": [
        "import os\n",
        "from google.colab import drive\n",
        "drive.mount('/content/drive',force_remount=True)\n",
        "!ls"
      ],
      "execution_count": 0,
      "outputs": [
        {
          "output_type": "stream",
          "text": [
            "Mounted at /content/drive\n"
          ],
          "name": "stdout"
        }
      ]
    },
    {
      "cell_type": "code",
      "metadata": {
        "id": "xZ8ENxtCeDXz",
        "colab_type": "code",
        "outputId": "869510f5-e0b4-420b-eb7e-f9064c1d8bbd",
        "colab": {
          "base_uri": "https://localhost:8080/",
          "height": 170
        }
      },
      "source": [
        "!apt-get install openjdk-8-jdk-headless -qq > /dev/null\n",
        "!wget -q http://www-eu.apache.org/dist/spark/spark-2.3.2/spark-2.3.2-bin-hadoop2.7.tgz\n",
        "!tar xf spark-2.3.2-bin-hadoop2.7.tgz\n",
        "!pip install -q findspark"
      ],
      "execution_count": 0,
      "outputs": [
        {
          "output_type": "stream",
          "text": [
            "shell-init: error retrieving current directory: getcwd: cannot access parent directories: Transport endpoint is not connected\n",
            "shell-init: error retrieving current directory: getcwd: cannot access parent directories: Transport endpoint is not connected\n",
            "pathconf: Transport endpoint is not connected\n",
            "shell-init: error retrieving current directory: getcwd: cannot access parent directories: Transport endpoint is not connected\n",
            "tar: spark-2.3.2-bin-hadoop2.7.tgz: Cannot open: Transport endpoint is not connected\n",
            "tar: Error is not recoverable: exiting now\n",
            "shell-init: error retrieving current directory: getcwd: cannot access parent directories: Transport endpoint is not connected\n",
            "shell-init: error retrieving current directory: getcwd: cannot access parent directories: Transport endpoint is not connected\n",
            "The folder you are executing pip from can no longer be found.\n"
          ],
          "name": "stdout"
        }
      ]
    },
    {
      "cell_type": "code",
      "metadata": {
        "id": "BA5J86olc8U-",
        "colab_type": "code",
        "colab": {}
      },
      "source": [
        "import os\n",
        "os.chdir(\"/content/drive/My Drive/Data\")\n",
        "os.environ[\"JAVA_HOME\"] = \"/usr/lib/jvm/java-8-openjdk-amd64\"\n",
        "os.environ[\"SPARK_HOME\"] = \"/content/drive/My Drive/Data/spark-2.3.2-bin-hadoop2.7\""
      ],
      "execution_count": 0,
      "outputs": []
    },
    {
      "cell_type": "code",
      "metadata": {
        "id": "GCEGvCIAdGH2",
        "colab_type": "code",
        "colab": {}
      },
      "source": [
        "import findspark\n",
        "findspark.init()\n",
        "from pyspark.sql import SparkSession\n",
        "spark = SparkSession.builder.master(\"local[4]\").getOrCreate()"
      ],
      "execution_count": 0,
      "outputs": []
    },
    {
      "cell_type": "code",
      "metadata": {
        "id": "yI4wp1cliXG1",
        "colab_type": "code",
        "colab": {}
      },
      "source": [
        "!chmod -R 777 '/content/drive/'"
      ],
      "execution_count": 0,
      "outputs": []
    },
    {
      "cell_type": "code",
      "metadata": {
        "id": "oWtyS-yydLw1",
        "colab_type": "code",
        "outputId": "7780868e-8cca-422a-d6a2-a8a33b3e8218",
        "colab": {
          "base_uri": "https://localhost:8080/",
          "height": 479
        }
      },
      "source": [
        "df = spark.read.csv('/content/drive/My Drive/testy.txt',inferSchema=True,header=True)\n",
        "df.show()"
      ],
      "execution_count": 72,
      "outputs": [
        {
          "output_type": "stream",
          "text": [
            "+---+----------------+-----------------+-------------+--------------------+--------------------+--------------------+----+-------+---------+--------+------------+\n",
            "|_c0|Retailer country|Order method type|Retailer type|        Product line|        Product type|             Product|Year|Quarter|  Revenue|Quantity|Gross margin|\n",
            "+---+----------------+-----------------+-------------+--------------------+--------------------+--------------------+----+-------+---------+--------+------------+\n",
            "|  0|   United States|              Fax|Outdoors Shop|   Camping Equipment|        Cooking Gear|TrailChef Deluxe ...|2012|Q1 2012| 59628.66|     489|  0.34754797|\n",
            "|  1|   United States|              Fax|Outdoors Shop|   Camping Equipment|        Cooking Gear|TrailChef Double ...|2012|Q1 2012| 35950.32|     252|   0.4742745|\n",
            "|  2|   United States|              Fax|Outdoors Shop|   Camping Equipment|               Tents|           Star Dome|2012|Q1 2012| 89940.48|     147|  0.35277197|\n",
            "|  3|   United States|              Fax|Outdoors Shop|   Camping Equipment|               Tents|        Star Gazer 2|2012|Q1 2012|165883.41|     303|  0.28293788|\n",
            "|  4|   United States|              Fax|Outdoors Shop|   Camping Equipment|       Sleeping Bags|     Hibernator Lite|2012|Q1 2012| 119822.2|    1415|  0.29145017|\n",
            "|  5|   United States|              Fax|Outdoors Shop|   Camping Equipment|       Sleeping Bags|  Hibernator Extreme|2012|Q1 2012| 87728.96|     352|  0.39814629|\n",
            "|  6|   United States|              Fax|Outdoors Shop|   Camping Equipment|       Sleeping Bags| Hibernator Camp Cot|2012|Q1 2012| 41837.46|     426|  0.33560737|\n",
            "|  7|   United States|              Fax|Outdoors Shop|   Camping Equipment|            Lanterns|        Firefly Lite|2012|Q1 2012|  8268.41|     577|  0.52896022|\n",
            "|  8|   United States|              Fax|Outdoors Shop|   Camping Equipment|            Lanterns|     Firefly Extreme|2012|Q1 2012|   9393.3|     189|  0.43420523|\n",
            "|  9|   United States|              Fax|Outdoors Shop|   Camping Equipment|            Lanterns|     EverGlow Single|2012|Q1 2012|  19396.5|     579|  0.46149254|\n",
            "| 10|   United States|              Fax|Outdoors Shop|   Camping Equipment|            Lanterns|     EverGlow Butane|2012|Q1 2012|  6940.03|     109|  0.36186587|\n",
            "| 11|   United States|              Fax|Outdoors Shop|Mountaineering Eq...|                Rope|       Husky Rope 50|2012|Q1 2012|  20003.2|     133|  0.32905585|\n",
            "| 12|   United States|              Fax|Outdoors Shop|Mountaineering Eq...|                Rope|       Husky Rope 60|2012|Q1 2012|  14109.4|      79|  0.29165733|\n",
            "| 13|   United States|              Fax|Outdoors Shop|Mountaineering Eq...|                Rope|      Husky Rope 100|2012|Q1 2012| 73970.22|     227|  0.30126435|\n",
            "| 14|   United States|              Fax|Outdoors Shop|Mountaineering Eq...|                Rope|      Husky Rope 200|2012|Q1 2012| 77288.64|     143|  0.31477575|\n",
            "| 15|   United States|              Fax|Outdoors Shop|Mountaineering Eq...|              Safety|Granite Climbing ...|2012|Q1 2012| 62464.88|     898|  0.24468085|\n",
            "| 16|   United States|              Fax|Outdoors Shop|Mountaineering Eq...|              Safety|       Husky Harness|2012|Q1 2012|  34154.9|     559|  0.28363339|\n",
            "| 17|   United States|              Fax|Outdoors Shop|Mountaineering Eq...|              Safety|Husky Harness Ext...|2012|Q1 2012|  36396.8|     352|  0.47843327|\n",
            "| 18|   United States|              Fax|Outdoors Shop|Mountaineering Eq...|              Safety|Granite Signal Mi...|2012|Q1 2012|  4074.84|     126|  0.51422387|\n",
            "| 19|   United States|              Fax|Outdoors Shop|Mountaineering Eq...|Climbing Accessories|   Granite Carabiner|2012|Q1 2012| 15122.72|    4022|   0.4787234|\n",
            "+---+----------------+-----------------+-------------+--------------------+--------------------+--------------------+----+-------+---------+--------+------------+\n",
            "only showing top 20 rows\n",
            "\n"
          ],
          "name": "stdout"
        }
      ]
    },
    {
      "cell_type": "code",
      "metadata": {
        "id": "YGR9TKk1m55I",
        "colab_type": "code",
        "colab": {}
      },
      "source": [
        "from pyspark.sql.functions import *\n",
        "from pyspark.sql.types import *"
      ],
      "execution_count": 0,
      "outputs": []
    },
    {
      "cell_type": "code",
      "metadata": {
        "id": "TVmDZi-knvtT",
        "colab_type": "code",
        "colab": {
          "base_uri": "https://localhost:8080/",
          "height": 170
        },
        "outputId": "364bdd71-05e8-4b05-f28a-797b83668e02"
      },
      "source": [
        "df2=df.filter(col('Product type')=='Safety')\n",
        "df2.show()"
      ],
      "execution_count": 75,
      "outputs": [
        {
          "output_type": "stream",
          "text": [
            "+---+----------------+-----------------+-------------+--------------------+------------+--------------------+----+-------+--------+--------+------------+\n",
            "|_c0|Retailer country|Order method type|Retailer type|        Product line|Product type|             Product|Year|Quarter| Revenue|Quantity|Gross margin|\n",
            "+---+----------------+-----------------+-------------+--------------------+------------+--------------------+----+-------+--------+--------+------------+\n",
            "| 15|   United States|              Fax|Outdoors Shop|Mountaineering Eq...|      Safety|Granite Climbing ...|2012|Q1 2012|62464.88|     898|  0.24468085|\n",
            "| 16|   United States|              Fax|Outdoors Shop|Mountaineering Eq...|      Safety|       Husky Harness|2012|Q1 2012| 34154.9|     559|  0.28363339|\n",
            "| 17|   United States|              Fax|Outdoors Shop|Mountaineering Eq...|      Safety|Husky Harness Ext...|2012|Q1 2012| 36396.8|     352|  0.47843327|\n",
            "| 18|   United States|              Fax|Outdoors Shop|Mountaineering Eq...|      Safety|Granite Signal Mi...|2012|Q1 2012| 4074.84|     126|  0.51422387|\n",
            "+---+----------------+-----------------+-------------+--------------------+------------+--------------------+----+-------+--------+--------+------------+\n",
            "\n"
          ],
          "name": "stdout"
        }
      ]
    },
    {
      "cell_type": "code",
      "metadata": {
        "id": "tcuTnD-4qpsT",
        "colab_type": "code",
        "colab": {
          "base_uri": "https://localhost:8080/",
          "height": 34
        },
        "outputId": "7ba36ff2-bc35-4f5c-b8f9-cc3489bee7b4"
      },
      "source": [
        "df2.distinct().count()"
      ],
      "execution_count": 74,
      "outputs": [
        {
          "output_type": "execute_result",
          "data": {
            "text/plain": [
              "4"
            ]
          },
          "metadata": {
            "tags": []
          },
          "execution_count": 74
        }
      ]
    },
    {
      "cell_type": "code",
      "metadata": {
        "id": "U_fiwrkvrefn",
        "colab_type": "code",
        "colab": {
          "base_uri": "https://localhost:8080/",
          "height": 459
        },
        "outputId": "23ee5d64-042b-47f0-bab9-8ed06f31f05a"
      },
      "source": [
        "def test(pr):\n",
        "  df3=df.groupBy(df.Product).agg({\"Revenue\": \"avg\", \"Quantity\": \"max\"}).toDF('product','max_quantity','revenue')\n",
        "  df3.show()\n",
        "test('Product')"
      ],
      "execution_count": 93,
      "outputs": [
        {
          "output_type": "stream",
          "text": [
            "+--------------------+------------+---------+\n",
            "|             product|max_quantity|  revenue|\n",
            "+--------------------+------------+---------+\n",
            "|TrailChef Deluxe ...|         632| 68347.37|\n",
            "|Firefly Rechargea...|        1520|  11673.6|\n",
            "|             Fairway|         409|  8241.35|\n",
            "|      Hibernator Pad|         411| 16205.73|\n",
            "|Husky Harness Ext...|         352|  36396.8|\n",
            "|Granite Signal Mi...|         126|  4074.84|\n",
            "|Hailstorm Titaniu...|          75|  65461.5|\n",
            "|Hailstorm Steel W...|          44| 30095.04|\n",
            "|  TrailChef Cook Set|        1331| 70400.88|\n",
            "|             Cat Eye|         101|  4428.85|\n",
            "|     EverGlow Butane|         109|  6940.03|\n",
            "|             Maximus|         113|   9325.0|\n",
            "|         Granite Ice|         333|  25041.6|\n",
            "|              Trendi|         181|   9104.3|\n",
            "|         Granite Axe|         856|  32870.4|\n",
            "|     Firefly Charger|         710|  36494.0|\n",
            "|             Inferno|         199|  12935.0|\n",
            "|       TrailChef Cup|        6134| 21434.73|\n",
            "|Hailstorm Titaniu...|          89|106338.98|\n",
            "|           Firefly 4|         338|   9751.3|\n",
            "+--------------------+------------+---------+\n",
            "only showing top 20 rows\n",
            "\n"
          ],
          "name": "stdout"
        }
      ]
    },
    {
      "cell_type": "code",
      "metadata": {
        "id": "LpKL-i0Tuozz",
        "colab_type": "code",
        "colab": {}
      },
      "source": [
        "def "
      ],
      "execution_count": 0,
      "outputs": []
    }
  ]
}